{
 "metadata": {
  "language_info": {
   "codemirror_mode": {
    "name": "ipython",
    "version": 3
   },
   "file_extension": ".py",
   "mimetype": "text/x-python",
   "name": "python",
   "nbconvert_exporter": "python",
   "pygments_lexer": "ipython3",
   "version": "3.9.0"
  },
  "orig_nbformat": 2,
  "kernelspec": {
   "name": "python390jvsc74a57bd063fd5069d213b44bf678585dea6b12cceca9941eaf7f819626cde1f2670de90d",
   "display_name": "Python 3.9.0 64-bit"
  },
  "metadata": {
   "interpreter": {
    "hash": "63fd5069d213b44bf678585dea6b12cceca9941eaf7f819626cde1f2670de90d"
   }
  }
 },
 "nbformat": 4,
 "nbformat_minor": 2,
 "cells": [
  {
   "cell_type": "code",
   "execution_count": 2,
   "metadata": {},
   "outputs": [],
   "source": [
    "import numpy as np"
   ]
  },
  {
   "cell_type": "code",
   "execution_count": 9,
   "metadata": {},
   "outputs": [
    {
     "output_type": "stream",
     "name": "stdout",
     "text": [
      "12\n[[0 0]\n [1 1]\n [0 0]\n [1 1]\n [0 0]\n [1 1]]\n"
     ]
    }
   ],
   "source": [
    "# Useful for explaining the vectorialization part\n",
    "centroids = [[0, 0], [1, 1]]\n",
    "points = [[-1, 2], [1, 1], [2, 4]]\n",
    "numcentroids = len(centroids)\n",
    "numpoints = len(points)\n",
    "# gets the numbers into correct order\n",
    "centroids = np.repeat([centroids], numpoints, axis = 0)\n",
    "# reshapes the numbers into one array\n",
    "print(centroids.size)\n",
    "centroids = centroids.reshape(centroids.size).reshape((numpoints * numcentroids), 2)\n",
    "print(centroids)\n",
    "# reshapes the points so each centroid in the reshaped list has a matching point\n",
    "points = np.repeat([points], numcentroids, axis = 1)"
   ]
  },
  {
   "cell_type": "code",
   "execution_count": 11,
   "metadata": {},
   "outputs": [
    {
     "output_type": "stream",
     "name": "stdout",
     "text": [
      "[[ 5  5]\n [ 2  0]\n [20 10]]\nlabels: [0 1 1]\n[ 5  0 10]\n"
     ]
    },
    {
     "output_type": "execute_result",
     "data": {
      "text/plain": [
       "15"
      ]
     },
     "metadata": {},
     "execution_count": 11
    }
   ],
   "source": [
    "square_distances = (centroids - points)**2\n",
    "square_distances = square_distances.sum(axis = 2).reshape(numpoints, numcentroids)\n",
    "print(square_distances)\n",
    "labels = np.argmin(square_distances, axis = 1)\n",
    "print(\"labels: \" + str(labels))\n",
    "total_distances = square_distances[np.linspace(0,len(square_distances)-1,len(square_distances), dtype=int), labels]\n",
    "print(total_distances)\n",
    "total_distances.sum()"
   ]
  }
 ]
}