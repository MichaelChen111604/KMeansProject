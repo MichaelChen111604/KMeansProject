{
 "metadata": {
  "language_info": {
   "codemirror_mode": {
    "name": "ipython",
    "version": 3
   },
   "file_extension": ".py",
   "mimetype": "text/x-python",
   "name": "python",
   "nbconvert_exporter": "python",
   "pygments_lexer": "ipython3",
   "version": "3.9.0-final"
  },
  "orig_nbformat": 2,
  "kernelspec": {
   "name": "python390jvsc74a57bd063fd5069d213b44bf678585dea6b12cceca9941eaf7f819626cde1f2670de90d",
   "display_name": "Python 3.9.0 64-bit"
  },
  "metadata": {
   "interpreter": {
    "hash": "63fd5069d213b44bf678585dea6b12cceca9941eaf7f819626cde1f2670de90d"
   }
  }
 },
 "nbformat": 4,
 "nbformat_minor": 2,
 "cells": [
  {
   "cell_type": "code",
   "execution_count": 1,
   "metadata": {},
   "outputs": [],
   "source": [
    "import numpy as np"
   ]
  },
  {
   "cell_type": "code",
   "execution_count": 9,
   "metadata": {},
   "outputs": [
    {
     "output_type": "stream",
     "name": "stdout",
     "text": [
      "12\n[[0 0]\n [1 1]\n [0 0]\n [1 1]\n [0 0]\n [1 1]]\n"
     ]
    }
   ],
   "source": [
    "# Useful for explaining the vectorialization part\n",
    "centroids = [[0, 0], [1, 1]]\n",
    "points = [[-1, 2], [1, 1], [2, 4]]\n",
    "numcentroids = len(centroids)\n",
    "numpoints = len(points)\n",
    "# gets the numbers into correct order\n",
    "centroids = np.repeat([centroids], numpoints, axis = 0)\n",
    "# reshapes the numbers into one array\n",
    "print(centroids.size)\n",
    "centroids = centroids.reshape(centroids.size).reshape((numpoints * numcentroids), 2)\n",
    "print(centroids)\n",
    "# reshapes the points so each centroid in the reshaped list has a matching point\n",
    "points = np.repeat([points], numcentroids, axis = 1)"
   ]
  },
  {
   "cell_type": "code",
   "execution_count": 11,
   "metadata": {},
   "outputs": [
    {
     "output_type": "stream",
     "name": "stdout",
     "text": [
      "[[ 5  5]\n [ 2  0]\n [20 10]]\nlabels: [0 1 1]\n[ 5  0 10]\n"
     ]
    },
    {
     "output_type": "execute_result",
     "data": {
      "text/plain": [
       "15"
      ]
     },
     "metadata": {},
     "execution_count": 11
    }
   ],
   "source": [
    "square_distances = (centroids - points)**2\n",
    "square_distances = square_distances.sum(axis = 2).reshape(numpoints, numcentroids)\n",
    "print(square_distances)\n",
    "labels = np.argmin(square_distances, axis = 1)\n",
    "print(\"labels: \" + str(labels))\n",
    "total_distances = square_distances[np.linspace(0,len(square_distances)-1,len(square_distances), dtype=int), labels]\n",
    "print(total_distances)\n",
    "total_distances.sum()"
   ]
  },
  {
   "cell_type": "code",
   "execution_count": 2,
   "metadata": {},
   "outputs": [
    {
     "output_type": "execute_result",
     "data": {
      "text/plain": [
       "False"
      ]
     },
     "metadata": {},
     "execution_count": 2
    }
   ],
   "source": [
    "class KMemes:\n",
    "    def __init__(self, n_clusters, n_init):\n",
    "        self.n_clusters = n_clusters\n",
    "        self.n_init = n_init\n",
    "        self.labels_ = []\n",
    "        self.centroids = []\n",
    "        self.fitted = False\n",
    "\n",
    "    def fit(self, array):\n",
    "        self.point_dimensions = np.shape(array)[1]\n",
    "        self.centroids = np.random.rand(shape=(self.n_clusters, self.point_dimensions))\n",
    "        self.labels_ = np.zeros(shape=(np.shape(array)[0]), dtype = int)\n",
    "        self.best_distance = sys.maxsize # infinity\n",
    "        self.best_iterations = 0\n",
    "\n",
    "        for i in range(self.n_init):\n",
    "            iterations = 0\n",
    "            new_centroids = np.random.rand(self.n_clusters, self.point_dimensions)\n",
    "            new_labels = np.zeros(shape=(np.shape(array)[0]), dtype = int)\n",
    "            prev_distance = sys.maxsize\n",
    "\n",
    "            while True:\n",
    "                iterations += 1\n",
    "                _new_centroids = new_centroids\n",
    "                _array = array\n",
    "                numcentroids = len(_new_centroids)\n",
    "                numpoints = len(_array)\n",
    "                _new_centroids = np.repeat([_new_centroids], numpoints, axis = 0)\n",
    "                _new_centroids = _new_centroids.reshape(_new_centroids.size).reshape((numpoints * numcentroids), self.point_dimensions)\n",
    "                _array = np.repeat([_array], numcentroids, axis = 1)\n",
    "                square_distances = (_new_centroids - _array)**2\n",
    "                square_distances = square_distances.sum(axis = 2).reshape(numpoints, numcentroids)\n",
    "                new_labels = np.argmin(square_distances, axis = 1)\n",
    "                current_distance = square_distances[np.linspace(0, len(square_distances)-1, len(square_distances),dtype=int), new_labels].sum()\n",
    "\n",
    "                cluster_coordinate_sums = np.zeros((self.n_clusters, self.point_dimensions), dtype=float)\n",
    "                cluster_numberof_points = np.zeros(self.n_clusters)\n",
    "                np.add.at(cluster_coordinate_sums, new_labels, array)\n",
    "                np.add.at(cluster_numberof_points, new_labels, 1)\n",
    "\n",
    "                cluster_numberof_points = cluster_numberof_points.reshape(np.shape(cluster_numberof_points)[0], 1)\n",
    "                new_centroids = cluster_coordinate_sums / cluster_numberof_points\n",
    "                if np.abs(prev_distance - current_distance) < 10 or iterations > 100:\n",
    "                    self.fitted = True\n",
    "                    if current_distance < self.best_distance:\n",
    "                        self.best_distance = current_distance\n",
    "                        self.best_iterations = iterations\n",
    "                        self.centroids = new_centroids\n",
    "                        self.labels_ = new_labels\n",
    "                    break\n",
    "                prev_distance = current_distance\n"
   ]
  },
  {
   "cell_type": "code",
   "execution_count": 5,
   "metadata": {},
   "outputs": [
    {
     "output_type": "execute_result",
     "data": {
      "text/plain": [
       "False"
      ]
     },
     "metadata": {},
     "execution_count": 5
    }
   ],
   "source": [
    "9223372036854775807 < sys.maxsize"
   ]
  }
 ]
}